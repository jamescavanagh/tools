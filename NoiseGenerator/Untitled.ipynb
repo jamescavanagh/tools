{
 "cells": [
  {
   "cell_type": "code",
   "execution_count": 14,
   "id": "c5b18a34",
   "metadata": {},
   "outputs": [
    {
     "name": "stdout",
     "output_type": "stream",
     "text": [
      "Requirement already satisfied: acoustics in /home/jentlejames/anaconda3/envs/tools/lib/python3.10/site-packages (0.2.6)\n",
      "Requirement already satisfied: sounddevice in /home/jentlejames/anaconda3/envs/tools/lib/python3.10/site-packages (0.4.5)\n",
      "Requirement already satisfied: six>=1.4.1 in /home/jentlejames/anaconda3/envs/tools/lib/python3.10/site-packages (from acoustics) (1.16.0)\n",
      "Requirement already satisfied: scipy>=0.16 in /home/jentlejames/anaconda3/envs/tools/lib/python3.10/site-packages (from acoustics) (1.9.3)\n",
      "Requirement already satisfied: tabulate in /home/jentlejames/anaconda3/envs/tools/lib/python3.10/site-packages (from acoustics) (0.9.0)\n",
      "Requirement already satisfied: pandas>=0.15 in /home/jentlejames/anaconda3/envs/tools/lib/python3.10/site-packages (from acoustics) (1.5.2)\n",
      "Requirement already satisfied: matplotlib in /home/jentlejames/anaconda3/envs/tools/lib/python3.10/site-packages (from acoustics) (3.6.2)\n",
      "Requirement already satisfied: numpy>=1.8 in /home/jentlejames/anaconda3/envs/tools/lib/python3.10/site-packages (from acoustics) (1.24.1)\n",
      "Requirement already satisfied: CFFI>=1.0 in /home/jentlejames/anaconda3/envs/tools/lib/python3.10/site-packages (from sounddevice) (1.15.1)\n",
      "Requirement already satisfied: pycparser in /home/jentlejames/anaconda3/envs/tools/lib/python3.10/site-packages (from CFFI>=1.0->sounddevice) (2.21)\n",
      "Requirement already satisfied: python-dateutil>=2.8.1 in /home/jentlejames/anaconda3/envs/tools/lib/python3.10/site-packages (from pandas>=0.15->acoustics) (2.8.2)\n",
      "Requirement already satisfied: pytz>=2020.1 in /home/jentlejames/anaconda3/envs/tools/lib/python3.10/site-packages (from pandas>=0.15->acoustics) (2022.7)\n",
      "Requirement already satisfied: contourpy>=1.0.1 in /home/jentlejames/anaconda3/envs/tools/lib/python3.10/site-packages (from matplotlib->acoustics) (1.0.6)\n",
      "Requirement already satisfied: pillow>=6.2.0 in /home/jentlejames/anaconda3/envs/tools/lib/python3.10/site-packages (from matplotlib->acoustics) (9.3.0)\n",
      "Requirement already satisfied: cycler>=0.10 in /home/jentlejames/anaconda3/envs/tools/lib/python3.10/site-packages (from matplotlib->acoustics) (0.11.0)\n",
      "Requirement already satisfied: fonttools>=4.22.0 in /home/jentlejames/anaconda3/envs/tools/lib/python3.10/site-packages (from matplotlib->acoustics) (4.38.0)\n",
      "Requirement already satisfied: kiwisolver>=1.0.1 in /home/jentlejames/anaconda3/envs/tools/lib/python3.10/site-packages (from matplotlib->acoustics) (1.4.4)\n",
      "Requirement already satisfied: packaging>=20.0 in /home/jentlejames/anaconda3/envs/tools/lib/python3.10/site-packages (from matplotlib->acoustics) (22.0)\n",
      "Requirement already satisfied: pyparsing>=2.2.1 in /home/jentlejames/anaconda3/envs/tools/lib/python3.10/site-packages (from matplotlib->acoustics) (3.0.9)\n"
     ]
    }
   ],
   "source": [
    "!pip install acoustics sounddevice"
   ]
  },
  {
   "cell_type": "code",
   "execution_count": 16,
   "id": "02984c3e",
   "metadata": {},
   "outputs": [
    {
     "ename": "OSError",
     "evalue": "PortAudio library not found",
     "output_type": "error",
     "traceback": [
      "\u001b[0;31m---------------------------------------------------------------------------\u001b[0m",
      "\u001b[0;31mOSError\u001b[0m                                   Traceback (most recent call last)",
      "Cell \u001b[0;32mIn[16], line 2\u001b[0m\n\u001b[1;32m      1\u001b[0m \u001b[38;5;28;01mimport\u001b[39;00m \u001b[38;5;21;01mnumpy\u001b[39;00m \u001b[38;5;28;01mas\u001b[39;00m \u001b[38;5;21;01mnp\u001b[39;00m\n\u001b[0;32m----> 2\u001b[0m \u001b[38;5;28;01mimport\u001b[39;00m \u001b[38;5;21;01msounddevice\u001b[39;00m \u001b[38;5;28;01mas\u001b[39;00m \u001b[38;5;21;01msd\u001b[39;00m\n\u001b[1;32m      4\u001b[0m sd\u001b[38;5;241m.\u001b[39mdefault\u001b[38;5;241m.\u001b[39msamplerate \u001b[38;5;241m=\u001b[39m \u001b[38;5;241m44100\u001b[39m\n\u001b[1;32m      6\u001b[0m time \u001b[38;5;241m=\u001b[39m \u001b[38;5;241m2.0\u001b[39m\n",
      "File \u001b[0;32m~/anaconda3/envs/tools/lib/python3.10/site-packages/sounddevice.py:71\u001b[0m\n\u001b[1;32m     69\u001b[0m             \u001b[38;5;28;01mbreak\u001b[39;00m\n\u001b[1;32m     70\u001b[0m     \u001b[38;5;28;01melse\u001b[39;00m:\n\u001b[0;32m---> 71\u001b[0m         \u001b[38;5;28;01mraise\u001b[39;00m \u001b[38;5;167;01mOSError\u001b[39;00m(\u001b[38;5;124m'\u001b[39m\u001b[38;5;124mPortAudio library not found\u001b[39m\u001b[38;5;124m'\u001b[39m)\n\u001b[1;32m     72\u001b[0m     _lib \u001b[38;5;241m=\u001b[39m _ffi\u001b[38;5;241m.\u001b[39mdlopen(_libname)\n\u001b[1;32m     73\u001b[0m \u001b[38;5;28;01mexcept\u001b[39;00m \u001b[38;5;167;01mOSError\u001b[39;00m:\n",
      "\u001b[0;31mOSError\u001b[0m: PortAudio library not found"
     ]
    }
   ],
   "source": [
    "import numpy as np\n",
    "import sounddevice as sd\n",
    "\n",
    "sd.default.samplerate = 44100\n",
    "\n",
    "time = 2.0\n",
    "frequency = 440\n",
    "\n",
    "# Generate time of samples between 0 and two seconds\n",
    "samples = np.arange(44100 * time) / 44100.0\n",
    "# Recall that a sinusoidal wave of frequency f has formula w(t) = A*sin(2*pi*f*t)\n",
    "wave = 10000 * np.sin(2 * np.pi * frequency * samples)\n",
    "# Convert it to wav format (16 bits)\n",
    "wav_wave = np.array(wave, dtype=np.int16)\n"
   ]
  },
  {
   "cell_type": "code",
   "execution_count": null,
   "id": "5089fa46",
   "metadata": {},
   "outputs": [],
   "source": []
  }
 ],
 "metadata": {
  "kernelspec": {
   "display_name": "Python 3 (ipykernel)",
   "language": "python",
   "name": "python3"
  },
  "language_info": {
   "codemirror_mode": {
    "name": "ipython",
    "version": 3
   },
   "file_extension": ".py",
   "mimetype": "text/x-python",
   "name": "python",
   "nbconvert_exporter": "python",
   "pygments_lexer": "ipython3",
   "version": "3.10.8"
  }
 },
 "nbformat": 4,
 "nbformat_minor": 5
}
